{
 "metadata": {
  "name": "",
  "signature": "sha256:fc82055aec21c4165a46df61c80d1c7dc0b7670ddca0fa4489d2165b06d03d23"
 },
 "nbformat": 3,
 "nbformat_minor": 0,
 "worksheets": [
  {
   "cells": [
    {
     "cell_type": "heading",
     "level": 1,
     "metadata": {},
     "source": [
      "CSV Example"
     ]
    },
    {
     "cell_type": "markdown",
     "metadata": {},
     "source": [
      "Python provides many useful functions to allow us to open data stored in files. For example, the csv module is one useful module for dealing with many forms of data found in the wild. There are many others."
     ]
    },
    {
     "cell_type": "markdown",
     "metadata": {},
     "source": [
      "----------------"
     ]
    },
    {
     "cell_type": "heading",
     "level": 4,
     "metadata": {},
     "source": [
      "Imports"
     ]
    },
    {
     "cell_type": "code",
     "collapsed": false,
     "input": [
      "import matplotlib.pyplot as plt\n",
      "import csv\n",
      "\n",
      "%matplotlib inline"
     ],
     "language": "python",
     "metadata": {},
     "outputs": []
    },
    {
     "cell_type": "code",
     "collapsed": false,
     "input": [
      "# Let's get a list of available files\n",
      "%ls -1 *.csv"
     ],
     "language": "python",
     "metadata": {},
     "outputs": []
    },
    {
     "cell_type": "heading",
     "level": 4,
     "metadata": {},
     "source": [
      "Sunspot Data"
     ]
    },
    {
     "cell_type": "code",
     "collapsed": false,
     "input": [
      "# Open up the sunspot data and read out the header\n",
      "sd = open(\"sunspot_num.csv\", \"rb\")\n",
      "csv_reader = csv.DictReader(sd)\n",
      "csv_reader.fieldnames"
     ],
     "language": "python",
     "metadata": {},
     "outputs": []
    },
    {
     "cell_type": "code",
     "collapsed": false,
     "input": [
      "# Looks like a simple set of data of monthly counts\n",
      "# of sunspot activity. Read the rest of the data and \n",
      "# plot the sunspot data\n",
      "year = []\n",
      "spot = []\n",
      "for row in csv_reader:\n",
      "    year.append(float(row[\"YEAR\"]) + (float(row[\"MON\"]) - 1)/12)\n",
      "    spot.append(float(row[\"SSN\"]))\n",
      "    \n",
      "print \"Found %d points\" % len(year)"
     ],
     "language": "python",
     "metadata": {},
     "outputs": []
    },
    {
     "cell_type": "code",
     "collapsed": false,
     "input": [
      "# Plot the data\n",
      "plt.figure(figsize=(8,4))\n",
      "plt.plot(year, spot)\n",
      "plt.title(\"Sunspot Count\")\n",
      "plt.grid()"
     ],
     "language": "python",
     "metadata": {},
     "outputs": []
    },
    {
     "cell_type": "heading",
     "level": 4,
     "metadata": {},
     "source": [
      "Savings Rates"
     ]
    },
    {
     "cell_type": "code",
     "collapsed": false,
     "input": [
      "# Open up the World Bank Data\n",
      "# I had the full data set for the demo, but for the repository, I only \n",
      "# included a scrubbed subset of the data I was using. If you'd like to\n",
      "# use the full data set, you can find it at the link I provide in the\n",
      "# \"Resources\" section.\n",
      "#wd = open(\"WDI_Data.csv\", \"rb\")\n",
      "wd = open(\"WDI_Data_US_China.csv\", \"rb\")\n",
      "csv_reader = csv.DictReader(wd)\n",
      "csv_reader.fieldnames"
     ],
     "language": "python",
     "metadata": {},
     "outputs": []
    },
    {
     "cell_type": "code",
     "collapsed": false,
     "input": [
      "# Looks like rows of data where each row represent an indicator\n",
      "# for a particular country. And we have data that can range\n",
      "# from 1960 to 2013. Let's gather all the rows for USA and China.\n",
      "# Be patient. This requires a little work. We will convert\n",
      "# each row into a dictionary that can be access by field name.\n",
      "usa = []\n",
      "china = []\n",
      "for row in csv_reader:\n",
      "    if row[\"Country Code\"] == \"USA\":\n",
      "        usa.append({f: row[f] for f in csv_reader.fieldnames})\n",
      "    elif row[\"Country Code\"] == \"CHN\":\n",
      "        china.append({f: row[f] for f in csv_reader.fieldnames})"
     ],
     "language": "python",
     "metadata": {},
     "outputs": []
    },
    {
     "cell_type": "code",
     "collapsed": false,
     "input": [
      "# How many indicators are there?\n",
      "print len(usa), len(china)"
     ],
     "language": "python",
     "metadata": {},
     "outputs": []
    },
    {
     "cell_type": "code",
     "collapsed": false,
     "input": [
      "# Whoa! That's a lot of data. Let's find all the rows that\n",
      "# have something to do with savings.\n",
      "usa_saving = []\n",
      "for row in usa:\n",
      "    if row[\"Indicator Name\"].lower().find(\"savings\") != -1:\n",
      "        usa_saving.append(row)\n",
      "\n",
      "china_saving = []\n",
      "for row in china:\n",
      "    if row[\"Indicator Name\"].lower().find(\"savings\") != -1:\n",
      "        china_saving.append(row)\n",
      "        \n",
      "print len(usa_saving), len(china_saving)"
     ],
     "language": "python",
     "metadata": {},
     "outputs": []
    },
    {
     "cell_type": "code",
     "collapsed": false,
     "input": [
      "# That's better. Let's print out the savings indicators.\n",
      "for s in usa_saving:\n",
      "    print s[\"Indicator Name\"], \", \", s[\"Indicator Code\"]"
     ],
     "language": "python",
     "metadata": {},
     "outputs": []
    },
    {
     "cell_type": "code",
     "collapsed": false,
     "input": [
      "# Let's look at \"Gross savings (% of GDP)\"\n",
      "# Using the Indicator Code\n",
      "usa_year = []\n",
      "usa_rate = []\n",
      "for s in usa_saving:\n",
      "    if s[\"Indicator Code\"] == \"NY.GNS.ICTR.ZS\":\n",
      "        for Y in range(1960, 2014):\n",
      "            # Ignore years without data\n",
      "            if len(s[str(Y)]):\n",
      "                usa_year.append(Y)\n",
      "                usa_rate.append(float(s[str(Y)]))\n",
      "\n",
      "china_year = []\n",
      "china_rate = []\n",
      "for s in china_saving:\n",
      "    if s[\"Indicator Code\"] == \"NY.GNS.ICTR.ZS\":\n",
      "        for Y in range(1960, 2014):\n",
      "            # Ignore years without data\n",
      "            if len(s[str(Y)]):\n",
      "                china_year.append(Y)\n",
      "                china_rate.append(float(s[str(Y)]))\n",
      "                \n",
      "plt.figure(figsize=(8,4))\n",
      "plt.title(\"Gross savings (% of GDP)\")\n",
      "plt.plot(usa_year, usa_rate, china_year, china_rate)\n",
      "plt.grid()"
     ],
     "language": "python",
     "metadata": {},
     "outputs": []
    },
    {
     "cell_type": "heading",
     "level": 1,
     "metadata": {},
     "source": [
      "Resources"
     ]
    },
    {
     "cell_type": "markdown",
     "metadata": {},
     "source": [
      "Data collected from:\n",
      "<html>\n",
      "<table>\n",
      "<tr><td>sunspot_num.csv</td><td>http://solarscience.msfc.nasa.gov/SunspotCycle.shtml</td></tr>\n",
      "<trd><td>WDI_Data_US_China.csv</td><td>http://data.worldbank.org/data-catalog/world-development-indicators?cid=GPD_WDI</td></tr>\n",
      "</table>\n",
      "</html>"
     ]
    },
    {
     "cell_type": "heading",
     "level": 1,
     "metadata": {},
     "source": [
      "Copyright Notice"
     ]
    },
    {
     "cell_type": "markdown",
     "metadata": {},
     "source": [
      "<html>\n",
      "<p xmlns:dct=\"http://purl.org/dc/terms/\" xmlns:vcard=\"http://www.w3.org/2001/vcard-rdf/3.0#\">\n",
      "  <a rel=\"license\"\n",
      "     href=\"http://creativecommons.org/publicdomain/zero/1.0/\">\n",
      "    <img src=\"CC0-88x31.png\" style=\"border-style: none;\" alt=\"CC0\" />\n",
      "  </a>\n",
      "  <br />\n",
      "  To the extent possible under law,\n",
      "  <a rel=\"dct:publisher\"\n",
      "     href=\"http://charles.stanho.pe\">\n",
      "    <span property=\"dct:title\">Charles Stanhope</span></a>\n",
      "  has waived all copyright and related or neighboring rights to\n",
      "  <i><span property=\"dct:title\">CSV Example</span></i>.\n",
      "This work is published from:\n",
      "<span property=\"vcard:Country\" datatype=\"dct:ISO3166\"\n",
      "      content=\"US\" about=\"http://charles.stanho.pe\">\n",
      "  United States</span>.\n",
      "</p>\n",
      "</html>"
     ]
    },
    {
     "cell_type": "code",
     "collapsed": false,
     "input": [],
     "language": "python",
     "metadata": {},
     "outputs": []
    }
   ],
   "metadata": {}
  }
 ]
}