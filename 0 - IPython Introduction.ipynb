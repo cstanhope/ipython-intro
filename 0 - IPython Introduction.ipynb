{
 "metadata": {
  "name": "",
  "signature": "sha256:0c74ac63aac029a7540fa92127765774a15e9ba976641848bba2897aa1ea54b9"
 },
 "nbformat": 3,
 "nbformat_minor": 0,
 "worksheets": [
  {
   "cells": [
    {
     "cell_type": "heading",
     "level": 1,
     "metadata": {},
     "source": [
      "IPython Notebook Introduction"
     ]
    },
    {
     "cell_type": "markdown",
     "metadata": {},
     "source": [
      "An EAST Knowledge presentation on 2014-06-14 by Charles Stanhope\n",
      "![Personal Card](cds-biz-card-2013-scaled.jpg \"Personal Card\")"
     ]
    },
    {
     "cell_type": "markdown",
     "metadata": {},
     "source": [
      "**Table of Contents:**\n",
      "\n",
      "* [What is it?](#What-is-it?)\n",
      "* [Interface Basics](#Interface-Basics)\n",
      "* [Theory of Operation](#Theory-of-Operation)\n",
      "* [More Thorough Example](#More-Thorough-Example)\n",
      "* [How to Get Help](#How-to-Get-Help)\n",
      "* [Other Nice Features](#Other-Nice-Features)\n",
      "* [Motivation](#Motivation)\n",
      "* [Resources](#Resources)\n",
      "* [Thank You!](#Thank-You!)\n",
      "* [Copyright Notice](#Copyright-Notice)"
     ]
    },
    {
     "cell_type": "markdown",
     "metadata": {},
     "source": [
      "---------"
     ]
    },
    {
     "cell_type": "heading",
     "level": 1,
     "metadata": {},
     "source": [
      "What is it?"
     ]
    },
    {
     "cell_type": "markdown",
     "metadata": {},
     "source": [
      "From the home page:\n",
      "> The IPython Notebook is a web-based interactive computational environment where you can combine code execution, text, mathematics, plots and rich media into a single document."
     ]
    },
    {
     "cell_type": "markdown",
     "metadata": {},
     "source": [
      "## I would add that IPython Notebook enables you to:\n",
      "* Rapidly prototype and explore algorithmic ideas\n",
      "* Easily share results\n",
      "* Replicate work\n",
      "* Freely collaborate\n",
      "* Leverage a large body of existing libraries\n",
      "\n",
      "<html><!--- I will touch on motivation later ---!></html>"
     ]
    },
    {
     "cell_type": "markdown",
     "metadata": {},
     "source": [
      "-----"
     ]
    },
    {
     "cell_type": "heading",
     "level": 1,
     "metadata": {},
     "source": [
      "Interface Basics"
     ]
    },
    {
     "cell_type": "markdown",
     "metadata": {},
     "source": [
      "* Uses the web browser\n",
      "* A scrolling document interface\n",
      "* Multiple cells per document\n",
      "* Each cell is one of a few types:\n",
      "  * _Markdown_ - for expository content\n",
      "  * _Code_ - for actual computing\n",
      "  * _Headings_ - for providing linkable sections\n",
      "  * _Raw_ - for just raw text\n",
      "* Code cells produce output that appears inline with the document"
     ]
    },
    {
     "cell_type": "heading",
     "level": 4,
     "metadata": {},
     "source": [
      "Quick Code Cell Examples"
     ]
    },
    {
     "cell_type": "code",
     "collapsed": false,
     "input": [
      "# Enter our data\n",
      "# I get two tip payments per month.\n",
      "tips_for_the_year = [30.0, 40.0, # Jan.\n",
      "                     25.0, 36.0, # Feb.\n",
      "                     50.0, 23.0, # Mar.\n",
      "                     33.0, 54.0, # April\n",
      "                     41.0, 32.0, # May\n",
      "                     36.0, 66.0, # June\n",
      "                     70.0, 40.0, # July\n",
      "                     33.0, 52.0, # August\n",
      "                     54.0, 33.0, # Sept.\n",
      "                     44.0, 23.0, # Oct.\n",
      "                     53.0, 44.0, # Nov.\n",
      "                     80.0, 98.0  # Dec.\n",
      "                     ]\n",
      "print tips_for_the_year"
     ],
     "language": "python",
     "metadata": {},
     "outputs": []
    },
    {
     "cell_type": "code",
     "collapsed": false,
     "input": [
      "# Do some calculations\n",
      "# What is my total tips?\n",
      "total_tips = sum(tips_for_the_year)\n",
      "print \"Total: $%.2f\" % total_tips\n",
      "\n",
      "# What is my average tip?\n",
      "average_monthly = total_tips / len(tips_for_the_year)\n",
      "print \"Average: $%.2f\" % average_monthly\n",
      "\n",
      "# What was my best tip?\n",
      "print \"Best: $%.2f\" % max(tips_for_the_year)\n"
     ],
     "language": "python",
     "metadata": {},
     "outputs": []
    },
    {
     "cell_type": "code",
     "collapsed": false,
     "input": [
      "# Plot some graphs using our data\n",
      "import matplotlib.pyplot as plt\n",
      "%matplotlib inline\n",
      "\n",
      "# Let's gather our tips into a single list of monthly tips.\n",
      "# I can continue to use the tips that I entered above as long\n",
      "# as I have executed the cell previous to this one.\n",
      "per_month = []\n",
      "for x in range(0, len(tips_for_the_year)/2):\n",
      "    per_month.append(tips_for_the_year[x] + tips_for_the_year[x + 1])\n",
      "\n",
      "# Altnerate:\n",
      "# per_month = [sum(n) for n in zip(tips_for_year[0::2], tips_for_the_year[1::2])]\n",
      "\n",
      "plt.plot(range(1, len(per_month)+1), per_month)\n",
      "plt.title(\"2013 Tip Performance\")\n",
      "plt.grid()\n",
      "plt.xlabel(\"Month\")\n",
      "plt.ylabel(\"Tips ($)\")"
     ],
     "language": "python",
     "metadata": {},
     "outputs": []
    },
    {
     "cell_type": "markdown",
     "metadata": {},
     "source": [
      "----------------"
     ]
    },
    {
     "cell_type": "heading",
     "level": 1,
     "metadata": {},
     "source": [
      "Theory of Operation"
     ]
    },
    {
     "cell_type": "markdown",
     "metadata": {},
     "source": [
      "Briefly:\n",
      "\n",
      "* Two Process Model\n",
      "  * The language \"kernel\" (Python) runs in one process\n",
      "  * The interface (Notebook) runs in another process\n",
      "  * You can use other interfaces with IPython e.g. console or qtconsole.\n",
      "* Communication occurs over a messaging passing interface\n",
      "* The two process do _not_ have to run on the same machine\n",
      "  * (In fact, I am running this demo with two machines.)"
     ]
    },
    {
     "cell_type": "markdown",
     "metadata": {},
     "source": [
      "![IPython Two Process Model](ipython-two-process.png \"IPython's Two Process Model\")"
     ]
    },
    {
     "cell_type": "markdown",
     "metadata": {},
     "source": [
      "-----------"
     ]
    },
    {
     "cell_type": "heading",
     "level": 1,
     "metadata": {},
     "source": [
      "More Thorough Example"
     ]
    },
    {
     "cell_type": "markdown",
     "metadata": {},
     "source": [
      "[Karplus-Strong String Synthesis](Karplus-Strong String Synthesis.ipynb)"
     ]
    },
    {
     "cell_type": "markdown",
     "metadata": {},
     "source": [
      "---------"
     ]
    },
    {
     "cell_type": "heading",
     "level": 1,
     "metadata": {},
     "source": [
      "How to Get Help"
     ]
    },
    {
     "cell_type": "markdown",
     "metadata": {},
     "source": [
      "* Use the Menu bar above\n",
      "* The interactive help of IPython \n",
      "  * ?\n",
      "  * %quickref\n",
      "  * object?\n",
      "* help() function for Python\n",
      "* The internet (but you already knew that)"
     ]
    },
    {
     "cell_type": "code",
     "collapsed": false,
     "input": [
      "# IPython help\n",
      "?"
     ],
     "language": "python",
     "metadata": {},
     "outputs": []
    },
    {
     "cell_type": "code",
     "collapsed": false,
     "input": [
      "# IPython quick reference\n",
      "%quickref"
     ],
     "language": "python",
     "metadata": {},
     "outputs": []
    },
    {
     "cell_type": "code",
     "collapsed": false,
     "input": [
      "# The object? IPython provides\n",
      "help?"
     ],
     "language": "python",
     "metadata": {},
     "outputs": []
    },
    {
     "cell_type": "code",
     "collapsed": false,
     "input": [
      "# Call help() to get Python documentation for an object.\n",
      "# Python often (not always) has extensive documentation for its modules\n",
      "help(help)"
     ],
     "language": "python",
     "metadata": {},
     "outputs": []
    },
    {
     "cell_type": "code",
     "collapsed": false,
     "input": [
      "# Or you can call help() by itself to get an interactive help.\n",
      "help()"
     ],
     "language": "python",
     "metadata": {},
     "outputs": []
    },
    {
     "cell_type": "markdown",
     "metadata": {},
     "source": [
      "---------"
     ]
    },
    {
     "cell_type": "heading",
     "level": 1,
     "metadata": {},
     "source": [
      "Other Nice Features"
     ]
    },
    {
     "cell_type": "markdown",
     "metadata": {},
     "source": [
      "* HTML Export\n",
      "  * Version 2.0: available directly from the browser interface!\n",
      "  * But you still have to have pandoc installed\n",
      "* The \"magic\" functions which provide easy access to various system level functions\n",
      "* Support for other programming languages\n",
      "* Supports rich inline output for:\n",
      "  * Graphics\n",
      "  * HTML\n",
      "* Interactive widgets\n",
      "* Latex support for great looking math!\n",
      "  * Unfortunately I don't have any examples. :-/\n",
      "* Support for multiprocessing"
     ]
    },
    {
     "cell_type": "markdown",
     "metadata": {},
     "source": [
      "-------------"
     ]
    },
    {
     "cell_type": "heading",
     "level": 1,
     "metadata": {},
     "source": [
      "Motivation"
     ]
    },
    {
     "cell_type": "markdown",
     "metadata": {},
     "source": [
      "####What drew me to use IPython Notebook\n",
      "(Story time about the issues I've run into for development.)"
     ]
    },
    {
     "cell_type": "markdown",
     "metadata": {},
     "source": [
      "**Why I like IPython Notebook:**\n",
      "\n",
      "* Getting answers fast\n",
      "  * No compile link cycle\n",
      "  * Work incrementally and quickly\n",
      "  * Runtime is preserved while you work\n",
      "  * Allowing you to build as you go\n",
      "* Documenting work is easy\n",
      "  * HTML export! Readers only need a browser. \n",
      "  * (So awesome...)\n",
      "* Replicating work or collaboration\n",
      "  * Freely licensed so no purchasing issues\n",
      "  * IPython works cross-platform\n",
      "* A mind boggling amount of libraries and modules that are available to be used\n",
      "  * _And this is counting only Python. Other languages can be used too!_\n",
      "* Actively being developed"
     ]
    },
    {
     "cell_type": "markdown",
     "metadata": {},
     "source": [
      "----------"
     ]
    },
    {
     "cell_type": "heading",
     "level": 1,
     "metadata": {},
     "source": [
      "Resources"
     ]
    },
    {
     "cell_type": "markdown",
     "metadata": {},
     "source": [
      "1. [IPython Notebook Home Page](http://ipython.org/notebook.html)\n",
      "2. [Anaconda environment works with Windows, Mac, and Linux](http://continuum.io/downloads)\n",
      "3. [Pandoc for HTML Export Support](http://johnmacfarlane.net/pandoc/installing.html)\n",
      "4. [Gallery of Interesting IPython Notebooks](https://github.com/ipython/ipython/wiki/A-gallery-of-interesting-IPython-Notebooks)\n",
      "5. [IPython Notebook Viewer](http://nbviewer.ipython.org/) for publically sharing notebooks\n",
      "6. [EAST Knowledge](http://eastknow.org) - to contact the group\n",
      "7. [Charles Stanhope](http://charles.stanho.pe) - to contact me"
     ]
    },
    {
     "cell_type": "markdown",
     "metadata": {},
     "source": [
      "-----------"
     ]
    },
    {
     "cell_type": "heading",
     "level": 1,
     "metadata": {},
     "source": [
      "Thank You!"
     ]
    },
    {
     "cell_type": "markdown",
     "metadata": {},
     "source": [
      "You people are awesome. Let's try a live demo!\n",
      "\n",
      "* SSID: **EAST Knowledge**\n",
      "* Password: **xxxxxxxxxxxxxxxx**\n",
      "\n",
      "Once connected to EAST Knowledge WiFi, try:\n",
      "* http://satellite:8000\n",
      "\n",
      "or if that fails, try:\n",
      "* http://192.168.1.145:8000\n",
      "\n",
      "in your browser."
     ]
    },
    {
     "cell_type": "markdown",
     "metadata": {},
     "source": [
      "---------------"
     ]
    },
    {
     "cell_type": "heading",
     "level": 1,
     "metadata": {},
     "source": [
      "Copyright Notice"
     ]
    },
    {
     "cell_type": "markdown",
     "metadata": {},
     "source": [
      "<html>\n",
      "<p xmlns:dct=\"http://purl.org/dc/terms/\" xmlns:vcard=\"http://www.w3.org/2001/vcard-rdf/3.0#\">\n",
      "  <a rel=\"license\"\n",
      "     href=\"http://creativecommons.org/publicdomain/zero/1.0/\">\n",
      "    <img src=\"CC0-88x31.png\" style=\"border-style: none;\" alt=\"CC0\" />\n",
      "  </a>\n",
      "  <br />\n",
      "  To the extent possible under law,\n",
      "  <a rel=\"dct:publisher\"\n",
      "     href=\"http://charles.stanho.pe\">\n",
      "    <span property=\"dct:title\">Charles Stanhope</span></a>\n",
      "  has waived all copyright and related or neighboring rights to\n",
      "  <i><span property=\"dct:title\">IPython Notebook Introduction</span></i>.\n",
      "This work is published from:\n",
      "<span property=\"vcard:Country\" datatype=\"dct:ISO3166\"\n",
      "      content=\"US\" about=\"http://charles.stanho.pe\">\n",
      "  United States</span>.\n",
      "</p>\n",
      "</html>"
     ]
    },
    {
     "cell_type": "code",
     "collapsed": false,
     "input": [],
     "language": "python",
     "metadata": {},
     "outputs": []
    }
   ],
   "metadata": {}
  }
 ]
}