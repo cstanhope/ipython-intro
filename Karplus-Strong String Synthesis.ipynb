{
 "metadata": {
  "name": "",
  "signature": "sha256:631d1134d49113ad48f107073ed563630974c99c99d8d2da0aa0c874baa27b58"
 },
 "nbformat": 3,
 "nbformat_minor": 0,
 "worksheets": [
  {
   "cells": [
    {
     "cell_type": "heading",
     "level": 1,
     "metadata": {},
     "source": [
      "Exploring Karplus-Strong Filters"
     ]
    },
    {
     "cell_type": "markdown",
     "metadata": {},
     "source": [
      "####Plucked String Synthesis\n",
      "An example inspired by a talk given by [Jim Rulla](http://www.eastknow.org/2014/03/meeting-2-recap.html)."
     ]
    },
    {
     "cell_type": "markdown",
     "metadata": {},
     "source": [
      "-----------"
     ]
    },
    {
     "cell_type": "heading",
     "level": 4,
     "metadata": {},
     "source": [
      "Imports"
     ]
    },
    {
     "cell_type": "code",
     "collapsed": false,
     "input": [
      "# We needs some imports and also enable our inline plots\n",
      "import matplotlib.pyplot as plt\n",
      "import random\n",
      "import wave\n",
      "import StringIO\n",
      "from IPython.core.display import HTML\n",
      "import numpy\n",
      "\n",
      "%matplotlib inline"
     ],
     "language": "python",
     "metadata": {},
     "outputs": []
    },
    {
     "cell_type": "heading",
     "level": 4,
     "metadata": {},
     "source": [
      "Settings"
     ]
    },
    {
     "cell_type": "code",
     "collapsed": false,
     "input": [
      "# Change these parameters to alter the sound\n",
      "\n",
      "# Amplitude should be between 0.0 and 1.0\n",
      "g_synth_amplitude = 1.0\n",
      "\n",
      "# Desired frequency in Hz\n",
      "g_synth_frequency_hz = 440\n",
      "\n",
      "# Desired wave file duration in seconds\n",
      "g_wav_duration_s = 4\n",
      "\n",
      "# Specify the sample rate of the output wave file\n",
      "g_wav_sample_rate = 44100\n",
      "\n",
      "# Specify file name for wave file\n",
      "#g_wav_filename = \"karplus-strong-synth-%d.wav\" % int(g_synth_frequency_hz)\n",
      "g_wav_filename = \"karplus-strong-synth.wav\"\n",
      "\n",
      "# Default fig sizes and dpi settings\n",
      "g_figsize = (4,4)\n",
      "g_dpi = 100\n",
      "\n",
      "#***\n",
      "# Calculated globals\n",
      "# You shouldn't need to alter these as they are based on the\n",
      "# settings you choose above.\n",
      "#***\n",
      "g_synth_period_s = 1.0 / g_synth_frequency_hz\n",
      "g_synth_period_samples = int(g_synth_period_s * g_wav_sample_rate + 0.5)\n",
      "g_synth_duration_samples = int(g_wav_duration_s * g_wav_sample_rate)\n",
      "print \"Synth period: %f sec.\" % g_synth_period_s\n",
      "print \"\\tor %d samples.\" % g_synth_period_samples\n",
      "print \"Wav duration: %f sec.\" % g_wav_duration_s\n",
      "print \"\\tor %d samples.\" % g_synth_duration_samples"
     ],
     "language": "python",
     "metadata": {},
     "outputs": []
    },
    {
     "cell_type": "heading",
     "level": 4,
     "metadata": {},
     "source": [
      "Functions"
     ]
    },
    {
     "cell_type": "code",
     "collapsed": false,
     "input": [
      "# Generate a list of random samples\n",
      "def gen_random_samples(amplitude, num_samples):\n",
      "    A = int(amplitude * 32767.0 + 0.5)\n",
      "    samples = [0] * num_samples\n",
      "    for n in range(0, len(samples)):\n",
      "        samples[n] = int(-A if random.random() > .5 else A)\n",
      "    return samples"
     ],
     "language": "python",
     "metadata": {},
     "outputs": []
    },
    {
     "cell_type": "code",
     "collapsed": false,
     "input": [
      "# String filter\n",
      "def make_string_sound(impulse, duration_samples):\n",
      "    p = len(impulse)\n",
      "    output = []\n",
      "    output.extend(impulse)\n",
      "    output.extend([int(0)] * (duration_samples - p))\n",
      "\n",
      "    for i in range(p, len(output)):\n",
      "        output[i] = int(((output[i - p] + output[i - p + 1]) / 2.0) + 0.5)\n",
      "        \n",
      "    return output"
     ],
     "language": "python",
     "metadata": {},
     "outputs": []
    },
    {
     "cell_type": "code",
     "collapsed": false,
     "input": [
      "# Drum filter\n",
      "def make_drum_sound(impulse, duration_samples, blend_factor):\n",
      "    \"\"\"blend_factor should be between 1 and 0. \n",
      "    A blend_factor of 1 produces the same result as the \n",
      "    make_string_sound()\"\"\"\n",
      "    p = len(impulse)\n",
      "    output = []\n",
      "    output.extend(impulse)\n",
      "    output.extend([int(0)] * (duration_samples - p))\n",
      "    \n",
      "    for i in range(p, len(output)):\n",
      "        factor = 2.0 if random.random() <= blend_factor else -2.0\n",
      "        output[i] = int(((output[i - p] + output[i - p + 1])/ factor) + 0.5)\n",
      "    \n",
      "    return output"
     ],
     "language": "python",
     "metadata": {},
     "outputs": []
    },
    {
     "cell_type": "code",
     "collapsed": false,
     "input": [
      "# Generate data suitable to writing to wave file\n",
      "def sound_to_bytes(sound):\n",
      "    \"\"\"Takes a list containing sound samples and converts to a buffer of bytes\"\"\"\n",
      "    output = StringIO.StringIO()\n",
      "    for sample in sound:\n",
      "        output.write(chr(sample & 0xFF))\n",
      "        output.write(chr((sample >> 8) & 0xFF))\n",
      "    return output.getvalue()"
     ],
     "language": "python",
     "metadata": {},
     "outputs": []
    },
    {
     "cell_type": "heading",
     "level": 4,
     "metadata": {},
     "source": [
      "Generate an Impulse"
     ]
    },
    {
     "cell_type": "code",
     "collapsed": false,
     "input": [
      "# Seed our random number generator\n",
      "random.seed()\n",
      "\n",
      "# Generate our impulse\n",
      "impulse = gen_random_samples(g_synth_amplitude, g_synth_period_samples)\n",
      "\n",
      "# Show our random impulse\n",
      "plt.figure(figsize=g_figsize)\n",
      "plt.plot(range(0, len(impulse)), impulse)\n",
      "plt.title(\"Initial Impulse\")\n",
      "plt.grid()"
     ],
     "language": "python",
     "metadata": {},
     "outputs": []
    },
    {
     "cell_type": "heading",
     "level": 4,
     "metadata": {},
     "source": [
      "Feed Through the Filter"
     ]
    },
    {
     "cell_type": "code",
     "collapsed": false,
     "input": [
      "# Synthesize through filter\n",
      "sound = make_string_sound(impulse, g_synth_duration_samples)\n",
      "#sound = make_drum_sound(impulse, g_synth_duration_samples, 1)\n",
      "\n",
      "# Show our sound\n",
      "plt.figure(figsize=g_figsize)\n",
      "plt.plot(range(0, len(sound)), sound)\n",
      "plt.title(\"Synthsized signal @ %dHz\" % g_synth_frequency_hz)\n",
      "plt.grid()"
     ],
     "language": "python",
     "metadata": {},
     "outputs": []
    },
    {
     "cell_type": "code",
     "collapsed": false,
     "input": [
      "# Show a zoomed view\n",
      "start = 20000 #2 * g_synth_period_samples\n",
      "end = start + 400\n",
      "plt.figure(figsize=g_figsize)\n",
      "plt.plot(range(start, end), sound[start:end])\n",
      "plt.title(\"Zoomed View\")\n",
      "plt.grid()"
     ],
     "language": "python",
     "metadata": {},
     "outputs": []
    },
    {
     "cell_type": "heading",
     "level": 4,
     "metadata": {},
     "source": [
      "FFT"
     ]
    },
    {
     "cell_type": "code",
     "collapsed": false,
     "input": [
      "# Look at an FFT of only the synthesized portion\n",
      "p = 2 * len(impulse)\n",
      "fft = [abs(f) for f in numpy.fft.rfft(sound[p:p + g_wav_sample_rate], g_wav_sample_rate)]\n",
      "fft[0] = 0 # Ignore DC\n",
      "freqs = [((g_wav_sample_rate / 2.0) / len(fft)) * n for n in range(0, len(fft))]\n",
      "\n",
      "# Entire FFT\n",
      "fig, axes = plt.subplots(figsize=g_figsize, dpi=g_dpi)\n",
      "axes.plot(freqs, fft)\n",
      "axes.set_title(\"FFT Magnitudes\")\n",
      "axes.set_xlabel(\"Hz\")\n",
      "axes.grid()\n",
      "\n",
      "# First part of FFT\n",
      "fig, axes = plt.subplots(figsize=g_figsize, dpi=g_dpi)\n",
      "axes.plot(freqs[0:1000], fft[0:1000])\n",
      "axes.set_title(\"FFT Magnitudes\")\n",
      "axes.set_xlabel(\"Hz\")\n",
      "axes.grid()"
     ],
     "language": "python",
     "metadata": {},
     "outputs": []
    },
    {
     "cell_type": "heading",
     "level": 4,
     "metadata": {},
     "source": [
      "Save and Play Sound"
     ]
    },
    {
     "cell_type": "code",
     "collapsed": false,
     "input": [
      "# Wave files are easy to make, so let's do that!\n",
      "wf = wave.open(g_wav_filename, \"w\")\n",
      "wf.setnchannels(1)\n",
      "wf.setsampwidth(2)\n",
      "wf.setframerate(g_wav_sample_rate)\n",
      "wf.writeframes(sound_to_bytes(sound))\n",
      "wf.close()\n",
      "\n",
      "# Generate some HTML to wrap up the audio file!\n",
      "# Should even show up in exported HTML\n",
      "wav = open(g_wav_filename, \"rb\").read()\n",
      "wav_encoded = wav.encode(\"base64\")\n",
      "audio_tag = \"\"\"\n",
      "        <audio controls=\"controls\" style=\"width:600px\" >\n",
      "          <source src=\"data:audio/wav;base64,{0}\" type=\"audio/wav\"/>\n",
      "          Your browser does not support the audio element.\n",
      "        </audio>\n",
      "        \"\"\".format(wav_encoded)\n",
      "HTML(audio_tag)"
     ],
     "language": "python",
     "metadata": {},
     "outputs": []
    },
    {
     "cell_type": "markdown",
     "metadata": {},
     "source": [
      "----------------"
     ]
    },
    {
     "cell_type": "heading",
     "level": 1,
     "metadata": {},
     "source": [
      "Resources"
     ]
    },
    {
     "cell_type": "markdown",
     "metadata": {},
     "source": [
      "* [Wikipedia](http://en.wikipedia.org/wiki/Karplus-Strong)\n",
      "* *Digital Synthesis of Plucked-String and Drum Timbres*\n",
      "  * Authors: Kevin Karplus and Alex Strong\n",
      "  * Source: Computer Music Journal, Vol. 7, No. 2 (Summer, 1983), pp. 43-55\n",
      "  * Publisher: MIT Press\n",
      "  * [JSTOR](http://www.jstor.org/stable/3680062)\n",
      "  * [Other Copy](http://users.soe.ucsc.edu/~karplus/papers/digitar.pdf)\n",
      "* [Inspiration for playing sound through IPython](http://nbviewer.ipython.org/gist/Carreau/5507501/the%20sound%20of%20hydrogen.ipynb)\n",
      "* [Inspiration for using base64 encoding to avoid browser cache](http://nbviewer.ipython.org/github/jrjohansson/scientific-python-lectures/blob/master/Lecture-4-Matplotlib.ipynb)"
     ]
    },
    {
     "cell_type": "markdown",
     "metadata": {},
     "source": [
      "------------"
     ]
    },
    {
     "cell_type": "heading",
     "level": 1,
     "metadata": {},
     "source": [
      "Copyright Notice"
     ]
    },
    {
     "cell_type": "markdown",
     "metadata": {},
     "source": [
      "<html>\n",
      "<p xmlns:dct=\"http://purl.org/dc/terms/\" xmlns:vcard=\"http://www.w3.org/2001/vcard-rdf/3.0#\">\n",
      "  <a rel=\"license\"\n",
      "     href=\"http://creativecommons.org/publicdomain/zero/1.0/\">\n",
      "    <img src=\"CC0-88x31.png\" style=\"border-style: none;\" alt=\"CC0\" />\n",
      "  </a>\n",
      "  <br />\n",
      "  To the extent possible under law,\n",
      "  <a rel=\"dct:publisher\"\n",
      "     href=\"http://charles.stanho.pe\">\n",
      "    <span property=\"dct:title\">Charles Stanhope</span></a>\n",
      "  has waived all copyright and related or neighboring rights to\n",
      "  <i><span property=\"dct:title\">Karplus-Strong String Synthesis</span></i>.\n",
      "This work is published from:\n",
      "<span property=\"vcard:Country\" datatype=\"dct:ISO3166\"\n",
      "      content=\"US\" about=\"http://charles.stanho.pe\">\n",
      "  United States</span>.\n",
      "</p>\n",
      "</html>"
     ]
    },
    {
     "cell_type": "code",
     "collapsed": false,
     "input": [],
     "language": "python",
     "metadata": {},
     "outputs": []
    }
   ],
   "metadata": {}
  }
 ]
}